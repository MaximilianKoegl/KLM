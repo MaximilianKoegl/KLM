{
 "cells": [
  {
   "cell_type": "markdown",
   "metadata": {},
   "source": [
    "# KLM Calculator"
   ]
  },
  {
   "cell_type": "markdown",
   "metadata": {},
   "source": [
    "In this jupyter notebook, the calculator.py is taken to compute time for KLM.\n",
    "The python file logs all relevant clicks from the keyboard and also the mouse. Furthermore, the time when the mouse is moved is logged just like the time to press a button with the keyboard or the mouse. To evaluate the specific times for KLM, the mean is taken for each operator.\n",
    "The tasks to get the different times were calculations.\n",
    "The results were logged in a text file and are also included in this jupyter notebook.\n"
   ]
  },
  {
   "cell_type": "markdown",
   "metadata": {},
   "source": [
    "# Tasks"
   ]
  },
  {
   "cell_type": "markdown",
   "metadata": {},
   "source": [
    "All tasks were typed in via keybard and also mouse.\n",
    "To generate different times to evaluate and compute the mean times for KLM, the following equations were used:"
   ]
  },
  {
   "cell_type": "code",
   "execution_count": 9,
   "metadata": {},
   "outputs": [
    {
     "data": {
      "text/plain": [
       "('1+1=',\n",
       " '23+24=',\n",
       " '18*7=',\n",
       " '512/6=',\n",
       " '(7-4)*5=',\n",
       " '234-1024=',\n",
       " '512+2056=',\n",
       " '600-312=')"
      ]
     },
     "execution_count": 9,
     "metadata": {},
     "output_type": "execute_result"
    }
   ],
   "source": [
    "\"1+1=\", \"23+24=\", \"18*7=\", \"512/6=\", \"(7-4)*5=\", \"234-1024=\", \"512+2056=\", \"600-312=\"\n"
   ]
  },
  {
   "cell_type": "markdown",
   "metadata": {},
   "source": [
    "# Computing the mean time for KLM"
   ]
  },
  {
   "cell_type": "code",
   "execution_count": 10,
   "metadata": {},
   "outputs": [],
   "source": [
    "all_data = []\n",
    "mouse = []\n",
    "keyboard = []\n",
    "data = open(\"results.txt\", \"r\")"
   ]
  },
  {
   "cell_type": "code",
   "execution_count": 11,
   "metadata": {},
   "outputs": [],
   "source": [
    "for line in data:\n",
    "    line = line.replace(\"\\n\",\"\")\n",
    "    item = line.split(\",\")\n",
    "    if item[1] == \"m\":\n",
    "        mouse.append(item)\n",
    "    else:\n",
    "        keyboard.append(item)\n",
    "    all_data.append(item)"
   ]
  },
  {
   "cell_type": "markdown",
   "metadata": {},
   "source": [
    "Calculate mean click time for mouse and keyboard in ms:"
   ]
  },
  {
   "cell_type": "code",
   "execution_count": 12,
   "metadata": {},
   "outputs": [
    {
     "name": "stdout",
     "output_type": "stream",
     "text": [
      "Mouse mean click time: \n",
      "33.57746478873239\n"
     ]
    }
   ],
   "source": [
    "count = 0\n",
    "mean = 0\n",
    "for time in mouse:\n",
    "     if time[0] == \"Button clicked\":\n",
    "        mean += float(time[2])\n",
    "        count += 1\n",
    "print(\"Mouse mean click time: \")\n",
    "print(mean/count)"
   ]
  },
  {
   "cell_type": "code",
   "execution_count": 13,
   "metadata": {},
   "outputs": [
    {
     "name": "stdout",
     "output_type": "stream",
     "text": [
      "Keyboard mean click time: \n",
      "90.85882352941177\n"
     ]
    }
   ],
   "source": [
    "count = 0\n",
    "mean = 0\n",
    "for time in keyboard:\n",
    "     if time[0] == \"Button clicked\":\n",
    "        mean += float(time[2])\n",
    "        count += 1\n",
    "print(\"Keyboard mean click time: \")\n",
    "print(mean/count)"
   ]
  },
  {
   "cell_type": "markdown",
   "metadata": {},
   "source": [
    "Calculate average mean click time"
   ]
  },
  {
   "cell_type": "code",
   "execution_count": 16,
   "metadata": {},
   "outputs": [
    {
     "name": "stdout",
     "output_type": "stream",
     "text": [
      "Average mean click time: \n",
      "64.78846153846153\n"
     ]
    }
   ],
   "source": [
    "count = 0\n",
    "mean = 0\n",
    "for time in all_data:\n",
    "     if time[0] == \"Button clicked\":\n",
    "        mean += float(time[2])\n",
    "        count += 1\n",
    "print(\"Average mean click time: \")\n",
    "print(mean/count)"
   ]
  },
  {
   "cell_type": "markdown",
   "metadata": {},
   "source": [
    "Calculate mean time for mouse movement:"
   ]
  },
  {
   "cell_type": "code",
   "execution_count": 17,
   "metadata": {},
   "outputs": [
    {
     "name": "stdout",
     "output_type": "stream",
     "text": [
      "Mouse movement mean time: \n",
      "791.640625\n"
     ]
    }
   ],
   "source": [
    "count = 0\n",
    "mean = 0\n",
    "for time in all_data:\n",
    "     if time[0] == \"Mouse moved\":\n",
    "        mean += float(time[2])\n",
    "        count += 1\n",
    "print(\"Mouse movement mean time: \")\n",
    "print(mean/count)"
   ]
  },
  {
   "cell_type": "code",
   "execution_count": null,
   "metadata": {},
   "outputs": [],
   "source": []
  }
 ],
 "metadata": {
  "kernelspec": {
   "display_name": "Python 3",
   "language": "python",
   "name": "python3"
  },
  "language_info": {
   "codemirror_mode": {
    "name": "ipython",
    "version": 3
   },
   "file_extension": ".py",
   "mimetype": "text/x-python",
   "name": "python",
   "nbconvert_exporter": "python",
   "pygments_lexer": "ipython3",
   "version": "3.7.3rc1"
  }
 },
 "nbformat": 4,
 "nbformat_minor": 2
}
