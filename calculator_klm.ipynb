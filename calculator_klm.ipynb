{
 "cells": [
  {
   "cell_type": "markdown",
   "metadata": {},
   "source": [
    "# KLM Calculator"
   ]
  },
  {
   "cell_type": "markdown",
   "metadata": {},
   "source": [
    "In this jupyter notebook, the calculator.py is taken to compute time for KLM.\n",
    "The python file logs all relevant clicks from the keyboard and also the mouse. Furthermore, the time when the mouse is moved is logged just like the time to press a button with the keyboard or the mouse. To evaluate the specific times for KLM, the mean is taken for each operator.\n",
    "The tasks to get different times were calculations.\n",
    "The results were logged in a text file and are also included in this jupyter notebook.\n"
   ]
  },
  {
   "cell_type": "markdown",
   "metadata": {},
   "source": [
    "# Tasks"
   ]
  },
  {
   "cell_type": "markdown",
   "metadata": {},
   "source": [
    "All tasks were typed in via keyboard and also mouse. For the mental meantime, the time between the end of an equation with the \"=\" operator and the next log was calculated and evaluated.\n",
    "For the changing time between mouse and keyboard, a different results file was created were the proband had to change between mouse and keyboard after every input.\n",
    "To generate different times to evaluate and compute the mean times for KLM, the following equations were used:"
   ]
  },
  {
   "cell_type": "code",
   "execution_count": 1,
   "metadata": {},
   "outputs": [
    {
     "data": {
      "text/plain": [
       "('1+1=',\n",
       " '23+24=',\n",
       " '18*7=',\n",
       " '512/6=',\n",
       " '(7-4)*5=',\n",
       " '234-1024=',\n",
       " '512+2056=',\n",
       " '600-312=')"
      ]
     },
     "execution_count": 1,
     "metadata": {},
     "output_type": "execute_result"
    }
   ],
   "source": [
    "\"1+1=\", \"23+24=\", \"18*7=\", \"512/6=\", \"(7-4)*5=\", \"234-1024=\", \"512+2056=\", \"600-312=\"\n"
   ]
  },
  {
   "cell_type": "markdown",
   "metadata": {},
   "source": [
    "# Computing the mean time for KLM"
   ]
  },
  {
   "cell_type": "code",
   "execution_count": 2,
   "metadata": {},
   "outputs": [],
   "source": [
    "from datetime import datetime\n",
    "\n",
    "all_data = []\n",
    "mouse = []\n",
    "keyboard = []\n",
    "data = open(\"results.txt\", \"r\")"
   ]
  },
  {
   "cell_type": "code",
   "execution_count": 3,
   "metadata": {},
   "outputs": [],
   "source": [
    "for line in data:\n",
    "    line = line.replace(\"\\n\",\"\")\n",
    "    item = line.split(\",\")\n",
    "    if item[1] == \"m\":\n",
    "        mouse.append(item)\n",
    "    else:\n",
    "        keyboard.append(item)\n",
    "    all_data.append(item)"
   ]
  },
  {
   "cell_type": "markdown",
   "metadata": {},
   "source": [
    "Calculate mean click time for mouse and keyboard in ms:"
   ]
  },
  {
   "cell_type": "code",
   "execution_count": 4,
   "metadata": {},
   "outputs": [
    {
     "name": "stdout",
     "output_type": "stream",
     "text": [
      "Mouse mean click time: \n",
      "29.661971830985916\n"
     ]
    }
   ],
   "source": [
    "count = 0\n",
    "mean = 0\n",
    "for time in mouse:\n",
    "     if time[0] == \"Button clicked\":\n",
    "        mean += float(time[2])\n",
    "        count += 1\n",
    "print(\"Mouse mean click time: \")\n",
    "mouseclick_time = mean/count\n",
    "print(mouseclick_time)"
   ]
  },
  {
   "cell_type": "code",
   "execution_count": 5,
   "metadata": {},
   "outputs": [
    {
     "name": "stdout",
     "output_type": "stream",
     "text": [
      "Keyboard mean click time: \n",
      "103.1025641025641\n"
     ]
    }
   ],
   "source": [
    "count = 0\n",
    "mean = 0\n",
    "for time in keyboard:\n",
    "     if time[0] == \"Button clicked\":\n",
    "        mean += float(time[2])\n",
    "        count += 1\n",
    "print(\"Keyboard mean click time: \")\n",
    "keyboard_time = mean/count\n",
    "print(keyboard_time)"
   ]
  },
  {
   "cell_type": "markdown",
   "metadata": {},
   "source": [
    "Calculate average mean click time"
   ]
  },
  {
   "cell_type": "code",
   "execution_count": 6,
   "metadata": {},
   "outputs": [
    {
     "name": "stdout",
     "output_type": "stream",
     "text": [
      "Mouse movement mean time: \n",
      "485.7741935483871\n"
     ]
    }
   ],
   "source": [
    "count = 0\n",
    "mean = 0\n",
    "for time in all_data:\n",
    "     if time[0] == \"Mouse moved\":\n",
    "        mean += float(time[2])\n",
    "        count += 1\n",
    "print(\"Mouse movement mean time: \")\n",
    "mouse_time = mean/count\n",
    "print(mouse_time)"
   ]
  },
  {
   "cell_type": "markdown",
   "metadata": {},
   "source": [
    "Mental thoughts mean time:"
   ]
  },
  {
   "cell_type": "code",
   "execution_count": 7,
   "metadata": {},
   "outputs": [
    {
     "name": "stdout",
     "output_type": "stream",
     "text": [
      "Mental mean time: \n",
      "1593.4515299479167\n"
     ]
    }
   ],
   "source": [
    "count = 0\n",
    "mean = 0\n",
    "i = 0\n",
    "while i < len(all_data):\n",
    "    if all_data[i][3] == \"=\" and all_data[i+1][3] != \"=\":\n",
    "        #https://stackoverflow.com/questions/27245488/converting-iso-8601-date-time-to-seconds-in-python\n",
    "        first = datetime.strptime(all_data[i][4], '%Y-%m-%d %H:%M:%S.%f')\n",
    "        second = datetime.strptime(all_data[i+1][4], '%Y-%m-%d %H:%M:%S.%f')\n",
    "        # Convert UTC datetime to seconds since the Epoch\n",
    "        timestamp_first = first.timestamp()*1000\n",
    "        timestamp_second = second.timestamp()*1000\n",
    "        mean += (timestamp_second - timestamp_first)\n",
    "        count += 1\n",
    "    i += 1\n",
    "\n",
    "print(\"Mental mean time: \")\n",
    "mental_time = mean/count\n",
    "print(mental_time)"
   ]
  },
  {
   "cell_type": "markdown",
   "metadata": {},
   "source": [
    "Reading file for changing task and calculating results"
   ]
  },
  {
   "cell_type": "code",
   "execution_count": 8,
   "metadata": {},
   "outputs": [],
   "source": [
    "all_data = []\n",
    "data = open(\"results_changing.txt\", \"r\")\n",
    "for line in data:\n",
    "    line = line.replace(\"\\n\",\"\")\n",
    "    item = line.split(\",\")\n",
    "    all_data.append(item)\n",
    "    "
   ]
  },
  {
   "cell_type": "code",
   "execution_count": 9,
   "metadata": {},
   "outputs": [
    {
     "name": "stdout",
     "output_type": "stream",
     "text": [
      "Changing mean time: \n",
      "597.1552734375\n"
     ]
    }
   ],
   "source": [
    "count = 0\n",
    "mean = 0\n",
    "i = 0\n",
    "placeholder = \"\"\n",
    "while count < len(all_data)-1:\n",
    "    #https://stackoverflow.com/questions/27245488/converting-iso-8601-date-time-to-seconds-in-python\n",
    "    first = datetime.strptime(all_data[i][4], '%Y-%m-%d %H:%M:%S.%f')\n",
    "    second = datetime.strptime(all_data[i+1][4], '%Y-%m-%d %H:%M:%S.%f')\n",
    "    # Convert UTC datetime to seconds since the Epoch\n",
    "    timestamp_first = first.timestamp()*1000\n",
    "    timestamp_second = second.timestamp()*1000\n",
    "    mean += (timestamp_second - timestamp_first)\n",
    "    count += 1\n",
    "\n",
    "print(\"Changing mean time: \")\n",
    "changing_time = mean/count\n",
    "print(changing_time)"
   ]
  },
  {
   "cell_type": "markdown",
   "metadata": {},
   "source": [
    "# Results"
   ]
  },
  {
   "cell_type": "markdown",
   "metadata": {},
   "source": [
    "Resulting from this the times for each KLM operator in miliseconds are:\n"
   ]
  },
  {
   "cell_type": "code",
   "execution_count": 10,
   "metadata": {},
   "outputs": [
    {
     "name": "stdout",
     "output_type": "stream",
     "text": [
      "Keystroke Time(k): 103.1025641025641\n",
      "Mouse movement Time(p): 485.7741935483871\n",
      "Mental Time(m): 1593.4515299479167\n",
      "Mouseclick Time(b): 29.661971830985916\n",
      "Changing Time(h): 597.1552734375\n"
     ]
    }
   ],
   "source": [
    "print(\"Keystroke Time(k): \"+ str(keyboard_time))\n",
    "print(\"Mouse movement Time(p): \"+ str(mouse_time))\n",
    "print(\"Mental Time(m): \"+ str(mental_time))\n",
    "print(\"Mouseclick Time(b): \"+ str(mouseclick_time))\n",
    "print(\"Changing Time(h): \"+ str(changing_time))"
   ]
  }
 ],
 "metadata": {
  "kernelspec": {
   "display_name": "Python 3",
   "language": "python",
   "name": "python3"
  },
  "language_info": {
   "codemirror_mode": {
    "name": "ipython",
    "version": 3
   },
   "file_extension": ".py",
   "mimetype": "text/x-python",
   "name": "python",
   "nbconvert_exporter": "python",
   "pygments_lexer": "ipython3",
   "version": "3.7.3rc1"
  }
 },
 "nbformat": 4,
 "nbformat_minor": 2
}
