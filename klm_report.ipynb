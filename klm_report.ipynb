{
 "cells": [
  {
   "cell_type": "markdown",
   "metadata": {},
   "source": [
    "# KLM report"
   ]
  },
  {
   "cell_type": "markdown",
   "metadata": {},
   "source": [
    "For evaluation purposes on the calculated KLM operators from the calculator.py study and the times for the KLM operators from Card et. al[1]. several calculations will be done by participants and thereon compared to the estimated times for both versions of KLM operators."
   ]
  },
  {
   "cell_type": "markdown",
   "metadata": {},
   "source": [
    "At first the experiment and the results from this experiment will be presented.\n",
    "Thereafter the time for each equation will be calculated for all KLM operators from our previous study and Card et. al."
   ]
  },
  {
   "cell_type": "markdown",
   "metadata": {},
   "source": [
    "The equations to estimate the times and conduct the study are:"
   ]
  },
  {
   "cell_type": "raw",
   "metadata": {},
   "source": [
    "-Adding the numbers from 1 to 20 using only the mouse\n",
    "-Adding the numbers from 1 to 20 using only the keyboard\n",
    "-calculating the result of (3²+4²)*15.2 using only the mouse\n",
    "-calculating the result of (3²+4²)*15.2 using only the keyboard"
   ]
  },
  {
   "cell_type": "markdown",
   "metadata": {},
   "source": [
    "# Study"
   ]
  },
  {
   "cell_type": "markdown",
   "metadata": {},
   "source": [
    "For this study, this aforementioned equations will be used but counterbalanced for all participants. Our aim is to evaluate the task completion time on experienced users. To get experienced users our participants had to calculate 20 different equations with the keyboard and also with the mouse to get to the level of an experienced user. This means 40 equations in summary. This equations also included all relevant signs of the used equations in this study. "
   ]
  },
  {
   "cell_type": "markdown",
   "metadata": {},
   "source": [
    "<b>Participants</b>"
   ]
  },
  {
   "cell_type": "markdown",
   "metadata": {},
   "source": [
    "The four participants were between 20 - 24 years old with a mean of 21.5. All of our participants were students and familiar with calculators and knew how to use them. Three of the participants were male and one female. "
   ]
  },
  {
   "cell_type": "markdown",
   "metadata": {},
   "source": [
    "<b>Study design</b>"
   ]
  },
  {
   "cell_type": "markdown",
   "metadata": {},
   "source": [
    "The participants first became a sheet with a list of 20 equations and had to type them all in with the mouse. After they finished they had to type another list of 20 equations in but just with the keyboard. Thereafter we gave them one of the four equations to type in. We repeated this step for all four equations."
   ]
  },
  {
   "cell_type": "markdown",
   "metadata": {},
   "source": [
    "Variables:"
   ]
  },
  {
   "cell_type": "raw",
   "metadata": {},
   "source": [
    "-Independent Variable is the use of mouse or keyboard\n",
    "-Dependent Variables are the completion times\n",
    "-Controlled Variables are the use of the same computer and mouse\n",
    "-Confounding Variables maybe external influences\n",
    "-Random Variables maybe random computer influences"
   ]
  },
  {
   "cell_type": "markdown",
   "metadata": {},
   "source": [
    "To minimize the occurrence and effect of confounding variables the study takes place in a laboratory with no distractions on the same computer with the same settings. Also, the system will be tested before the participants take part in this study to make sure all programs work as they should."
   ]
  },
  {
   "cell_type": "markdown",
   "metadata": {},
   "source": [
    "# Results"
   ]
  },
  {
   "cell_type": "code",
   "execution_count": 1,
   "metadata": {},
   "outputs": [],
   "source": [
    "from datetime import datetime\n",
    "first_c = []\n",
    "second_c = []\n",
    "third_c = []\n",
    "fourth_c = []\n",
    "all_data = []"
   ]
  },
  {
   "cell_type": "markdown",
   "metadata": {},
   "source": [
    "Reading file with result data"
   ]
  },
  {
   "cell_type": "code",
   "execution_count": 2,
   "metadata": {},
   "outputs": [],
   "source": [
    "data = open(\"results_study.txt\", \"r\")\n",
    "for line in data:\n",
    "    line = line.replace(\"\\n\",\"\")\n",
    "    item = line.split(\",\")\n",
    "    if item[5] == \"1\":\n",
    "        first_c.append(item)\n",
    "    elif item[5] == \"2\":\n",
    "        second_c.append(item)\n",
    "    elif item[5] == \"3\":\n",
    "        third_c.append(item)\n",
    "    else:\n",
    "        fourth_c.append(item)\n",
    "    all_data.append(item)"
   ]
  },
  {
   "cell_type": "markdown",
   "metadata": {},
   "source": [
    "Calculating mean completion time for first equation"
   ]
  },
  {
   "cell_type": "code",
   "execution_count": 24,
   "metadata": {},
   "outputs": [
    {
     "name": "stdout",
     "output_type": "stream",
     "text": [
      "First equation mean times:\n",
      "27635.50860595703\n"
     ]
    }
   ],
   "source": [
    "def calculate_completion_time(arr):\n",
    "    #https://stackoverflow.com/questions/27245488/converting-iso-8601-date-time-to-seconds-in-python\n",
    "    first = datetime.strptime(arr[0], '%Y-%m-%d %H:%M:%S.%f')\n",
    "    second = datetime.strptime(arr[len(arr)-1], '%Y-%m-%d %H:%M:%S.%f')\n",
    "    # Convert UTC datetime to seconds since the Epoch\n",
    "    timestamp_first = first.timestamp()*1000\n",
    "    timestamp_second = second.timestamp()*1000\n",
    "    duration = (timestamp_second - timestamp_first)\n",
    "    return duration\n",
    "\n",
    "first_condition_mean = 0\n",
    "pb = [first_c, second_c, third_c, fourth_c]\n",
    "for i in pb:\n",
    "    first_condition_mean += calculate_completion_time([x[4] for x in i if x[6] == \"1\"])\n",
    "\n",
    "first_condition_mean = first_condition_mean/len(pb)\n",
    "print(\"First equation mean times:\")\n",
    "print(first_condition_mean)"
   ]
  },
  {
   "cell_type": "markdown",
   "metadata": {},
   "source": [
    "Calculating mean completion time for first equation"
   ]
  },
  {
   "cell_type": "code",
   "execution_count": 25,
   "metadata": {},
   "outputs": [
    {
     "name": "stdout",
     "output_type": "stream",
     "text": [
      "Second equation mean times:\n",
      "16816.260314941406\n"
     ]
    }
   ],
   "source": [
    "second_condition_mean = 0\n",
    "for i in pb:\n",
    "    second_condition_mean += calculate_completion_time([x[4] for x in i if x[6] == \"2\"])\n",
    "\n",
    "second_condition_mean = second_condition_mean/len(pb)\n",
    "print(\"Second equation mean times:\")\n",
    "print(second_condition_mean)"
   ]
  },
  {
   "cell_type": "markdown",
   "metadata": {},
   "source": [
    "Calculating mean completion time for third equation"
   ]
  },
  {
   "cell_type": "code",
   "execution_count": 26,
   "metadata": {},
   "outputs": [
    {
     "name": "stdout",
     "output_type": "stream",
     "text": [
      "Third equation mean times:\n",
      "11133.348937988281\n"
     ]
    }
   ],
   "source": [
    "third_condition_mean = 0\n",
    "for i in pb:\n",
    "    third_condition_mean += calculate_completion_time([x[4] for x in i if x[6] == \"3\"])\n",
    "\n",
    "third_condition_mean = third_condition_mean/len(pb)\n",
    "print(\"Third equation mean times:\")\n",
    "print(third_condition_mean)"
   ]
  },
  {
   "cell_type": "markdown",
   "metadata": {},
   "source": [
    "Calculating mean completion time for fourth equation"
   ]
  },
  {
   "cell_type": "code",
   "execution_count": 27,
   "metadata": {},
   "outputs": [
    {
     "name": "stdout",
     "output_type": "stream",
     "text": [
      "Fourth equation mean times:\n",
      "10634.184509277344\n"
     ]
    }
   ],
   "source": [
    "fourth_condition_mean = 0\n",
    "for i in pb:\n",
    "    fourth_condition_mean += calculate_completion_time([x[4] for x in i if x[6] == \"4\"])\n",
    "\n",
    "fourth_condition_mean = fourth_condition_mean/len(pb)\n",
    "print(\"Fourth equation mean times:\")\n",
    "print(fourth_condition_mean)"
   ]
  },
  {
   "cell_type": "code",
   "execution_count": 41,
   "metadata": {},
   "outputs": [
    {
     "data": {
      "image/png": "[encoded data removed]",
      "text/plain": [
       "<Figure size 432x288 with 1 Axes>"
      ]
     },
     "metadata": {
      "needs_background": "light"
     },
     "output_type": "display_data"
    }
   ],
   "source": [
    "#https://pythonspot.com/matplotlib-bar-chart/\n",
    "import numpy as np\n",
    "import matplotlib.pyplot as plt\n",
    "\n",
    "n_groups = 2\n",
    "means_mouse = (first_condition_mean, third_condition_mean)\n",
    "means_keyboard = (second_condition_mean, fourth_condition_mean)\n",
    "\n",
    "fig, ax = plt.subplots()\n",
    "index = np.arange(n_groups)\n",
    "bar_width = 0.35\n",
    "opacity = 0.8\n",
    "rects1 = plt.bar(index, means_mouse, bar_width, alpha= opacity, color='b', label=\"Mouse\")\n",
    "rects2 = plt.bar(index+bar_width, means_keyboard, bar_width,alpha= opacity, color='g',label=\"Keyboard\")\n",
    "\n",
    "plt.xlabel(\"Equations/Conditions\")\n",
    "plt.ylabel(\"Time in ms\")\n",
    "plt.title(\"Completion times by category\")\n",
    "plt.xticks(index + bar_width, (\"1 to 20 (1 and 2)\", \"(3²+4²)*15.2 (3 and 4)\"))\n",
    "plt.legend()\n",
    "plt.show()"
   ]
  },
  {
   "cell_type": "code",
   "execution_count": 46,
   "metadata": {},
   "outputs": [
    {
     "data": {
      "image/png": "[encoded data removed]",
      "text/plain": [
       "<Figure size 432x288 with 1 Axes>"
      ]
     },
     "metadata": {
      "needs_background": "light"
     },
     "output_type": "display_data"
    }
   ],
   "source": [
    "all_means = ((first_condition_mean + third_condition_mean)/2, \n",
    "            (second_condition_mean+fourth_condition_mean)/2)\n",
    "bars = (\"Mouse\", \"Keyboard\")\n",
    "y_pos = np.arange(len(bars))\n",
    "plt.bar(y_pos, all_means, color=[\"blue\", \"green\"])\n",
    "plt.xticks(y_pos, bars)\n",
    "plt.ylabel(\"Time in ms\")\n",
    "\n",
    "plt.show()"
   ]
  },
  {
   "cell_type": "code",
   "execution_count": null,
   "metadata": {},
   "outputs": [],
   "source": []
  }
 ],
 "metadata": {
  "kernelspec": {
   "display_name": "Python 3",
   "language": "python",
   "name": "python3"
  },
  "language_info": {
   "codemirror_mode": {
    "name": "ipython",
    "version": 3
   },
   "file_extension": ".py",
   "mimetype": "text/x-python",
   "name": "python",
   "nbconvert_exporter": "python",
   "pygments_lexer": "ipython3",
   "version": "3.7.3rc1"
  }
 },
 "nbformat": 4,
 "nbformat_minor": 2
}
