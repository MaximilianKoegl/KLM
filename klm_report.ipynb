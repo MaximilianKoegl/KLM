{
 "cells": [
  {
   "cell_type": "markdown",
   "metadata": {},
   "source": [
    "# KLM report"
   ]
  },
  {
   "cell_type": "markdown",
   "metadata": {},
   "source": [
    "For evaluation purposes on the calculated KLM operators from the calculator.py study and the times for the KLM operators from Card et. al[1]. several calculations will be done by participants and thereon compared to the estimated times for both versions of KLM operators."
   ]
  },
  {
   "cell_type": "markdown",
   "metadata": {},
   "source": [
    "At first the experiment and the results from this experiment will be presented.\n",
    "Thereafter the time for each equation will be calculated for all KLM operators from our previous study and Card et. al."
   ]
  },
  {
   "cell_type": "markdown",
   "metadata": {},
   "source": [
    "The equations to estimate the times and conduct the study are:"
   ]
  },
  {
   "cell_type": "raw",
   "metadata": {},
   "source": [
    "-Adding the numbers from 1 to 20 using only the mouse\n",
    "-Adding the numbers from 1 to 20 using only the keyboard\n",
    "-calculating the result of (3²+4²)*15.2 using only the mouse\n",
    "-calculating the result of (3²+4²)*15.2 using only the keyboard"
   ]
  },
  {
   "cell_type": "markdown",
   "metadata": {},
   "source": [
    "# Study"
   ]
  },
  {
   "cell_type": "markdown",
   "metadata": {},
   "source": [
    "For this study, this aforementioned equations will be used but counterbalanced for all participants. Our aim is to evaluate the task completion time on experienced users. To get experienced users our participants had to calculate 20 different equations with the keyboard and also with the mouse to get to the level of an experienced user. This means 40 equations in summary. This equations also included all relevant signs of the used equations in this study. "
   ]
  },
  {
   "cell_type": "markdown",
   "metadata": {},
   "source": [
    "<b>Participants</b>"
   ]
  },
  {
   "cell_type": "markdown",
   "metadata": {},
   "source": [
    "The four participants were between 20 - 24 years old with a mean of 21.5. All of our participants were students and familiar with calculators and knew how to use them. Three of the participants were male and one female. "
   ]
  },
  {
   "cell_type": "markdown",
   "metadata": {},
   "source": [
    "<b>Study design</b>"
   ]
  },
  {
   "cell_type": "markdown",
   "metadata": {},
   "source": [
    "The participants first became a sheet with a list of 20 equations and had to type them all in with the mouse. After they finished they had to type another list of 20 equations in but just with the keyboard. Thereafter we gave them one of the four equations to type in. We repeated this step for all four equations."
   ]
  },
  {
   "cell_type": "markdown",
   "metadata": {},
   "source": [
    "Variables:"
   ]
  },
  {
   "cell_type": "raw",
   "metadata": {},
   "source": [
    "-Independent Variable is the use of mouse or keyboard\n",
    "-Dependent Variables are the completion times\n",
    "-Controlled Variables are the use of the same computer and mouse\n",
    "-Confounding Variables maybe external influences\n",
    "-Random Variables maybe random computer influences"
   ]
  },
  {
   "cell_type": "markdown",
   "metadata": {},
   "source": [
    "To minimize the occurrence and effect of confounding variables the study takes place in a laboratory with no distractions on the same computer with the same settings. Also, the system will be tested before the participants take part in this study to make sure all programs work as they should."
   ]
  },
  {
   "cell_type": "markdown",
   "metadata": {},
   "source": [
    "# Results"
   ]
  },
  {
   "cell_type": "code",
   "execution_count": 1,
   "metadata": {},
   "outputs": [],
   "source": [
    "from datetime import datetime\n",
    "first_c = []\n",
    "second_c = []\n",
    "third_c = []\n",
    "fourth_c = []\n",
    "all_data = []"
   ]
  },
  {
   "cell_type": "markdown",
   "metadata": {},
   "source": [
    "Reading file with result data"
   ]
  },
  {
   "cell_type": "code",
   "execution_count": 2,
   "metadata": {},
   "outputs": [],
   "source": [
    "data = open(\"results_study.txt\", \"r\")\n",
    "for line in data:\n",
    "    line = line.replace(\"\\n\",\"\")\n",
    "    item = line.split(\",\")\n",
    "    if item[5] == \"1\":\n",
    "        first_c.append(item)\n",
    "    elif item[5] == \"2\":\n",
    "        second_c.append(item)\n",
    "    elif item[5] == \"3\":\n",
    "        third_c.append(item)\n",
    "    else:\n",
    "        fourth_c.append(item)\n",
    "    all_data.append(item)"
   ]
  },
  {
   "cell_type": "markdown",
   "metadata": {},
   "source": [
    "Calculating mean completion time for first equation"
   ]
  },
  {
   "cell_type": "code",
   "execution_count": 3,
   "metadata": {},
   "outputs": [
    {
     "name": "stdout",
     "output_type": "stream",
     "text": [
      "First equation mean times:\n",
      "27635.50860595703\n"
     ]
    }
   ],
   "source": [
    "def calculate_completion_time(arr):\n",
    "    #https://stackoverflow.com/questions/27245488/converting-iso-8601-date-time-to-seconds-in-python\n",
    "    first = datetime.strptime(arr[0], '%Y-%m-%d %H:%M:%S.%f')\n",
    "    second = datetime.strptime(arr[len(arr)-1], '%Y-%m-%d %H:%M:%S.%f')\n",
    "    # Convert UTC datetime to seconds since the Epoch\n",
    "    timestamp_first = first.timestamp()*1000\n",
    "    timestamp_second = second.timestamp()*1000\n",
    "    duration = (timestamp_second - timestamp_first)\n",
    "    return duration\n",
    "\n",
    "first_condition_mean = 0\n",
    "pb = [first_c, second_c, third_c, fourth_c]\n",
    "for i in pb:\n",
    "    first_condition_mean += calculate_completion_time([x[4] for x in i if x[6] == \"1\"])\n",
    "\n",
    "first_condition_mean = first_condition_mean/len(pb)\n",
    "print(\"First equation mean times:\")\n",
    "print(first_condition_mean)"
   ]
  },
  {
   "cell_type": "markdown",
   "metadata": {},
   "source": [
    "Calculating mean completion time for first equation"
   ]
  },
  {
   "cell_type": "code",
   "execution_count": 4,
   "metadata": {},
   "outputs": [
    {
     "name": "stdout",
     "output_type": "stream",
     "text": [
      "Second equation mean times:\n",
      "16816.260314941406\n"
     ]
    }
   ],
   "source": [
    "second_condition_mean = 0\n",
    "for i in pb:\n",
    "    second_condition_mean += calculate_completion_time([x[4] for x in i if x[6] == \"2\"])\n",
    "\n",
    "second_condition_mean = second_condition_mean/len(pb)\n",
    "print(\"Second equation mean times:\")\n",
    "print(second_condition_mean)"
   ]
  },
  {
   "cell_type": "markdown",
   "metadata": {},
   "source": [
    "Calculating mean completion time for third equation"
   ]
  },
  {
   "cell_type": "code",
   "execution_count": 5,
   "metadata": {},
   "outputs": [
    {
     "name": "stdout",
     "output_type": "stream",
     "text": [
      "Third equation mean times:\n",
      "11133.348937988281\n"
     ]
    }
   ],
   "source": [
    "third_condition_mean = 0\n",
    "for i in pb:\n",
    "    third_condition_mean += calculate_completion_time([x[4] for x in i if x[6] == \"3\"])\n",
    "\n",
    "third_condition_mean = third_condition_mean/len(pb)\n",
    "print(\"Third equation mean times:\")\n",
    "print(third_condition_mean)"
   ]
  },
  {
   "cell_type": "markdown",
   "metadata": {},
   "source": [
    "Calculating mean completion time for fourth equation"
   ]
  },
  {
   "cell_type": "code",
   "execution_count": 6,
   "metadata": {},
   "outputs": [
    {
     "name": "stdout",
     "output_type": "stream",
     "text": [
      "Fourth equation mean times:\n",
      "10634.184509277344\n"
     ]
    }
   ],
   "source": [
    "fourth_condition_mean = 0\n",
    "for i in pb:\n",
    "    fourth_condition_mean += calculate_completion_time([x[4] for x in i if x[6] == \"4\"])\n",
    "\n",
    "fourth_condition_mean = fourth_condition_mean/len(pb)\n",
    "print(\"Fourth equation mean times:\")\n",
    "print(fourth_condition_mean)"
   ]
  },
  {
   "cell_type": "markdown",
   "metadata": {},
   "source": [
    "# <b>Plots for visualisation</b>"
   ]
  },
  {
   "cell_type": "code",
   "execution_count": 9,
   "metadata": {},
   "outputs": [
    {
     "data": {
      "image/png": "[encoded data removed]",
      "text/plain": [
       "<Figure size 432x288 with 1 Axes>"
      ]
     },
     "metadata": {
      "needs_background": "light"
     },
     "output_type": "display_data"
    }
   ],
   "source": [
    "#https://pythonspot.com/matplotlib-bar-chart/\n",
    "import numpy as np\n",
    "import matplotlib.pyplot as plt\n",
    "\n",
    "n_groups = 2\n",
    "means_mouse = (first_condition_mean, third_condition_mean)\n",
    "means_keyboard = (second_condition_mean, fourth_condition_mean)\n",
    "\n",
    "fig, ax = plt.subplots()\n",
    "index = np.arange(n_groups)\n",
    "bar_width = 0.35\n",
    "opacity = 0.8\n",
    "rects1 = plt.bar(index, means_mouse, bar_width, alpha= opacity, color='b', label=\"Mouse\")\n",
    "rects2 = plt.bar(index+bar_width, means_keyboard, bar_width,alpha= opacity, color='g',label=\"Keyboard\")\n",
    "\n",
    "plt.xlabel(\"Equations/Conditions\")\n",
    "plt.ylabel(\"Time in ms\")\n",
    "plt.title(\"Completion times by category\")\n",
    "plt.xticks(index + bar_width/2, (\"1 to 20 (1 and 2)\", \"(3²+4²)*15.2 (3 and 4)\"))\n",
    "plt.legend()\n",
    "plt.show()"
   ]
  },
  {
   "cell_type": "code",
   "execution_count": 10,
   "metadata": {},
   "outputs": [
    {
     "data": {
      "image/png": "[encoded data removed]",
      "text/plain": [
       "<Figure size 432x288 with 1 Axes>"
      ]
     },
     "metadata": {
      "needs_background": "light"
     },
     "output_type": "display_data"
    }
   ],
   "source": [
    "all_means = ((first_condition_mean + third_condition_mean)/2, \n",
    "            (second_condition_mean+fourth_condition_mean)/2)\n",
    "bars = (\"Mouse\", \"Keyboard\")\n",
    "y_pos = np.arange(len(bars))\n",
    "plt.bar(y_pos, all_means, color=[\"blue\", \"green\"])\n",
    "plt.xticks(y_pos, bars)\n",
    "plt.ylabel(\"Time in ms\")\n",
    "plt.title(\"Mean completion time for mouse and keyboard\")\n",
    "plt.show()"
   ]
  },
  {
   "cell_type": "markdown",
   "metadata": {},
   "source": [
    "# Times for KLM"
   ]
  },
  {
   "cell_type": "raw",
   "metadata": {},
   "source": [
    "Used settings for klm.py script to calculate times:\n",
    "    -m51p102b #remember equation and type in with mouse 1 to 20 with \"=\", total 51 moves and click\n",
    "    -m51k   #remember equation and type in 1 to 20 with \"=\", total 51 keystrokes\n",
    "    -m12p24b #remember equation and type in with mouse(3²+4²)*15.2 with \"=\", total 12 moves and clicks\n",
    "    -m16k    #remember equation and type in (3²+4²)*15.2 \"=\", total 16 keystrokes (more for brackets and squared)"
   ]
  },
  {
   "cell_type": "markdown",
   "metadata": {},
   "source": [
    "KLM with Card et. al. operator settings:\n",
    "    - 1 to 20 with mouse = 57.50 seconds\n",
    "    - 1 to 20 with keyboard = 67.50 seconds\n",
    "    - (3²+4²)∗15.2 with mouse = 14.6 seconds\n",
    "    - (3²+4²)∗15.2 with keyboard = 16.8 seconds\n",
    "\n",
    "    "
   ]
  },
  {
   "cell_type": "markdown",
   "metadata": {},
   "source": [
    "KLM with evaluated operator settings:\n",
    "    - 1 to 20 with mouse = 26.65 seconds\n",
    "    - 1 to 20 with keyboard = 29.64 seconds\n",
    "    - (3²+4²)∗15.2 with mouse = 7.54 seconds\n",
    "    - (3²+4²)∗15.2 with keyboard = 8.193 seconds"
   ]
  },
  {
   "cell_type": "code",
   "execution_count": 11,
   "metadata": {},
   "outputs": [],
   "source": [
    "card_one = 57.50*1000\n",
    "card_two = 67.50*1000\n",
    "card_three = 14.6*1000\n",
    "card_four = 16.8*1000\n",
    "\n",
    "eval_one = 26.65*1000\n",
    "eval_two = 29.64*1000\n",
    "eval_three = 7.54*1000\n",
    "eval_four = 8.193*1000"
   ]
  },
  {
   "cell_type": "code",
   "execution_count": 12,
   "metadata": {},
   "outputs": [
    {
     "data": {
      "image/png": "[encoded data removed]",
      "text/plain": [
       "<Figure size 432x288 with 1 Axes>"
      ]
     },
     "metadata": {
      "needs_background": "light"
     },
     "output_type": "display_data"
    }
   ],
   "source": [
    "n_groups = 1\n",
    "means_mouse = (first_condition_mean)\n",
    "means_mouse_KLM_card = (card_one)\n",
    "means_mouse_KLM_eval = (eval_one)\n",
    "\n",
    "fig, ax = plt.subplots()\n",
    "index = np.arange(n_groups)\n",
    "bar_width = 0.15\n",
    "opacity = 0.5\n",
    "rects1 = plt.bar(index, means_mouse, bar_width, alpha= opacity, color='blue', label=\"Study mean time\")\n",
    "rects2 = plt.bar(index+bar_width, means_mouse_KLM_card, bar_width,alpha= opacity, color='red',label=\"KLM card time\")\n",
    "rects3 = plt.bar(index+2*bar_width, means_mouse_KLM_eval, bar_width,alpha= opacity, color='orange',label=\"KLM eval time\")\n",
    "\n",
    "plt.xlabel(\"Equations/Conditions\")\n",
    "plt.ylabel(\"Time in ms\")\n",
    "plt.title(\"Completion times for first condition\")\n",
    "plt.xlabel(\"First equation 1 to 20 only mouse\")\n",
    "plt.xticks([], [])\n",
    "plt.legend()\n",
    "plt.axhline(y=first_condition_mean, color=\"red\")\n",
    "plt.show()"
   ]
  },
  {
   "cell_type": "code",
   "execution_count": 13,
   "metadata": {},
   "outputs": [
    {
     "data": {
      "image/png": "[encoded data removed]",
      "text/plain": [
       "<Figure size 432x288 with 1 Axes>"
      ]
     },
     "metadata": {
      "needs_background": "light"
     },
     "output_type": "display_data"
    }
   ],
   "source": [
    "n_groups = 1\n",
    "means_keyb = (second_condition_mean)\n",
    "means_keyb_KLM_card = (card_two)\n",
    "means_keyb_KLM_eval = (eval_two)\n",
    "\n",
    "fig, ax = plt.subplots()\n",
    "index = np.arange(n_groups)\n",
    "bar_width = 0.15\n",
    "opacity = 0.5\n",
    "rects1 = plt.bar(index, means_keyb, bar_width, alpha= opacity, color='b', label=\"Study mean time\")\n",
    "rects2 = plt.bar(index+bar_width, means_keyb_KLM_card, bar_width,alpha= opacity, color='red',label=\"KLM card time\")\n",
    "rects3 = plt.bar(index+2*bar_width, means_keyb_KLM_eval, bar_width,alpha= opacity, color='orange',label=\"KLM eval time\")\n",
    "\n",
    "plt.xlabel(\"Equations/Conditions\")\n",
    "plt.ylabel(\"Time in ms\")\n",
    "plt.title(\"Completion times for second condition\")\n",
    "plt.xlabel(\"Second equation 1 to 20 only Keyboard\")\n",
    "plt.xticks([], [])\n",
    "plt.legend()\n",
    "plt.axhline(y=second_condition_mean, color=\"red\")\n",
    "plt.show()"
   ]
  },
  {
   "cell_type": "code",
   "execution_count": 14,
   "metadata": {},
   "outputs": [
    {
     "data": {
      "image/png": "[encoded data removed]",
      "text/plain": [
       "<Figure size 432x288 with 1 Axes>"
      ]
     },
     "metadata": {
      "needs_background": "light"
     },
     "output_type": "display_data"
    }
   ],
   "source": [
    "n_groups = 1\n",
    "means_mouse = (third_condition_mean)\n",
    "means_mouse_KLM_card = (card_three)\n",
    "means_mouse_KLM_eval = (eval_three)\n",
    "\n",
    "fig, ax = plt.subplots()\n",
    "index = np.arange(n_groups)\n",
    "bar_width = 0.15\n",
    "opacity = 0.5\n",
    "rects1 = plt.bar(index, means_mouse, bar_width, alpha= opacity, color='b', label=\"Study mean time\")\n",
    "rects2 = plt.bar(index+bar_width, means_mouse_KLM_card, bar_width,alpha= opacity, color='red',label=\"KLM card time\")\n",
    "rects3 = plt.bar(index+2*bar_width, means_mouse_KLM_eval, bar_width,alpha= opacity, color='orange',label=\"KLM eval time\")\n",
    "\n",
    "plt.xlabel(\"Equations/Conditions\")\n",
    "plt.ylabel(\"Time in ms\")\n",
    "plt.title(\"Completion times for third condition\")\n",
    "plt.xlabel(\"Third equation (3²+4²)*15.2 only mouse\")\n",
    "plt.xticks([], [])\n",
    "plt.legend()\n",
    "plt.axhline(y=third_condition_mean, color=\"red\")\n",
    "plt.show()"
   ]
  },
  {
   "cell_type": "code",
   "execution_count": 15,
   "metadata": {},
   "outputs": [
    {
     "data": {
      "image/png": "[encoded data removed]",
      "text/plain": [
       "<Figure size 432x288 with 1 Axes>"
      ]
     },
     "metadata": {
      "needs_background": "light"
     },
     "output_type": "display_data"
    }
   ],
   "source": [
    "n_groups = 1\n",
    "means_keyb = (fourth_condition_mean)\n",
    "means_keyb_KLM_card = (card_four)\n",
    "means_keyb_KLM_eval = (eval_four)\n",
    "\n",
    "fig, ax = plt.subplots()\n",
    "index = np.arange(n_groups)\n",
    "bar_width = 0.15\n",
    "opacity = 0.5\n",
    "rects1 = plt.bar(index, means_keyb, bar_width, alpha= opacity, color='b', label=\"Study mean time\")\n",
    "rects2 = plt.bar(index+bar_width, means_keyb_KLM_card, bar_width,alpha= opacity, color='red',label=\"KLM card time\")\n",
    "rects3 = plt.bar(index+2*bar_width, means_keyb_KLM_eval, bar_width,alpha= opacity, color='orange',label=\"KLM eval time\")\n",
    "\n",
    "plt.xlabel(\"Equations/Conditions\")\n",
    "plt.ylabel(\"Time in ms\")\n",
    "plt.title(\"Completion times for fourth condition\")\n",
    "plt.xlabel(\"Fourth equation (3²+4²)-15.2 only Keyboard\")\n",
    "plt.xticks([], [])\n",
    "plt.legend()\n",
    "plt.axhline(y=fourth_condition_mean, color=\"red\")\n",
    "plt.show()"
   ]
  },
  {
   "cell_type": "markdown",
   "metadata": {},
   "source": [
    "<b>Conclusion</b>"
   ]
  },
  {
   "cell_type": "markdown",
   "metadata": {},
   "source": [
    "The results and the resulting plots show similarities between the actually needed time for experienced users and the calculated times with the KLM operator values from Card et. al. and our computed times for these operators. For the first equation, the needed time for our participants was just like the calculated time with our KLM operator values. For the second equation, the needed time for our participants was far lesss than both calculated KLM results but it was closer to the KLM operators from the previous study. For the third condition, the time our participants needed was right between the calculated times with KLM. For the fourth condition, our participants placed again between both KLM calculated results. This shows that there seem to be discrepancies between the values for all used KLM operators. Furthermore, this might show that there are more values for KLM operators dependent on the used system and the users which should be further explored and evaluated."
   ]
  }
 ],
 "metadata": {
  "kernelspec": {
   "display_name": "Python 3",
   "language": "python",
   "name": "python3"
  },
  "language_info": {
   "codemirror_mode": {
    "name": "ipython",
    "version": 3
   },
   "file_extension": ".py",
   "mimetype": "text/x-python",
   "name": "python",
   "nbconvert_exporter": "python",
   "pygments_lexer": "ipython3",
   "version": "3.7.3rc1"
  }
 },
 "nbformat": 4,
 "nbformat_minor": 2
}
